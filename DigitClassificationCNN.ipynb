{
 "cells": [
  {
   "cell_type": "code",
   "execution_count": 1,
   "id": "9a947a06-4fe0-47b2-bbc6-694cba4165a9",
   "metadata": {},
   "outputs": [],
   "source": [
    "import torch\n",
    "from torch.utils.data import Dataset, DataLoader\n",
    "import torch.nn as nn\n",
    "import torch.nn.functional as F\n",
    "from skimage import io\n",
    "import numpy as np\n",
    "import matplotlib.pyplot as plt\n",
    "import torch.optim as optim\n",
    "import cv2\n",
    "import numpy as np\n",
    "import matplotlib.pyplot as plt\n",
    "plt.style.use('dark_background')"
   ]
  },
  {
   "cell_type": "code",
   "execution_count": 2,
   "id": "beb5f7b1-cea5-4d5b-ba4e-71f53a917259",
   "metadata": {},
   "outputs": [
    {
     "data": {
      "image/png": "[encoded data removed]",
      "text/plain": [
       "<Figure size 432x288 with 1 Axes>"
      ]
     },
     "metadata": {},
     "output_type": "display_data"
    },
    {
     "data": {
      "image/png": "[encoded data removed]",
      "text/plain": [
       "<Figure size 432x288 with 1 Axes>"
      ]
     },
     "metadata": {},
     "output_type": "display_data"
    },
    {
     "data": {
      "image/png": "[encoded data removed]",
      "text/plain": [
       "<Figure size 432x288 with 1 Axes>"
      ]
     },
     "metadata": {},
     "output_type": "display_data"
    },
    {
     "data": {
      "image/png": "[encoded data removed]",
      "text/plain": [
       "<Figure size 432x288 with 1 Axes>"
      ]
     },
     "metadata": {},
     "output_type": "display_data"
    },
    {
     "data": {
      "image/png": "[encoded data removed]",
      "text/plain": [
       "<Figure size 432x288 with 1 Axes>"
      ]
     },
     "metadata": {},
     "output_type": "display_data"
    },
    {
     "data": {
      "image/png": "[encoded data removed]",
      "text/plain": [
       "<Figure size 432x288 with 1 Axes>"
      ]
     },
     "metadata": {},
     "output_type": "display_data"
    },
    {
     "data": {
      "image/png": "[encoded data removed]",
      "text/plain": [
       "<Figure size 432x288 with 1 Axes>"
      ]
     },
     "metadata": {},
     "output_type": "display_data"
    },
    {
     "data": {
      "image/png": "[encoded data removed]",
      "text/plain": [
       "<Figure size 432x288 with 1 Axes>"
      ]
     },
     "metadata": {},
     "output_type": "display_data"
    },
    {
     "data": {
      "image/png": "[encoded data removed]",
      "text/plain": [
       "<Figure size 432x288 with 1 Axes>"
      ]
     },
     "metadata": {},
     "output_type": "display_data"
    },
    {
     "data": {
      "image/png": "[encoded data removed]",
      "text/plain": [
       "<Figure size 432x288 with 1 Axes>"
      ]
     },
     "metadata": {},
     "output_type": "display_data"
    }
   ],
   "source": [
    "def generate_digit_image(digit):\n",
    "    text = '%d' % digit\n",
    "    font = cv2.FONT_HERSHEY_SIMPLEX\n",
    "    font_size = 1\n",
    "    font_color = 255\n",
    "    thickness = np.random.randint(1, 4)\n",
    "    text_size = cv2.getTextSize(text, font, font_size, thickness)[0]\n",
    "    image = np.zeros((28, 28), dtype = np.uint8)\n",
    "    loc = (np.random.randint(-3, 11), np.random.randint(21, 28))\n",
    "    image = cv2.putText(image, text, loc, font, font_size, font_color, thickness)\n",
    "    return image\n",
    "\n",
    "for digit in range(10):\n",
    "    image = generate_digit_image(digit)\n",
    "    plt.imshow(image, cmap='gray')\n",
    "    plt.title('digit: %d' % digit)\n",
    "    plt.axis('off')\n",
    "    plt.show()"
   ]
  },
  {
   "cell_type": "code",
   "execution_count": 3,
   "id": "0616f2e7-953a-4ae3-9f4a-50f6b6233a75",
   "metadata": {},
   "outputs": [
    {
     "name": "stdout",
     "output_type": "stream",
     "text": [
      "0\n",
      "generating train\n",
      "generating test\n",
      "1\n",
      "generating train\n",
      "generating test\n",
      "2\n",
      "generating train\n",
      "generating test\n",
      "3\n",
      "generating train\n",
      "generating test\n",
      "4\n",
      "generating train\n",
      "generating test\n",
      "5\n",
      "generating train\n",
      "generating test\n",
      "6\n",
      "generating train\n",
      "generating test\n",
      "7\n",
      "generating train\n",
      "generating test\n",
      "8\n",
      "generating train\n",
      "generating test\n",
      "9\n",
      "generating train\n",
      "generating test\n"
     ]
    }
   ],
   "source": [
    "n_digits = 10\n",
    "n_train_per_class = 1000\n",
    "n_test_per_class = 100\n",
    "\n",
    "for digit in range(n_digits):\n",
    "    print(digit)\n",
    "    print('generating train')\n",
    "    for i_sample in range(n_train_per_class):\n",
    "        image = generate_digit_image(digit)\n",
    "        cv2.imwrite('DigitClassificationCNN_Dataset/train/Image_%d_%05d.png' % (digit, i_sample), image)\n",
    "    print('generating test')\n",
    "    for i_sample in range(n_test_per_class):\n",
    "        image = generate_digit_image(digit)\n",
    "        cv2.imwrite('DigitClassificationCNN_Dataset/test/Image_%d_%05d.png' % (digit, i_sample), image)"
   ]
  },
  {
   "cell_type": "code",
   "execution_count": 4,
   "id": "0886d5df-2d9a-4a80-929f-c43740cd4b99",
   "metadata": {},
   "outputs": [],
   "source": [
    "class CustomDataset(Dataset):\n",
    "    def __init__(self, phase):\n",
    "        self.n_classes = n_digits\n",
    "        self.root_path = 'DigitClassificationCNN_Dataset/%s' % phase\n",
    "        if phase == 'train':\n",
    "            self.n_imgs_per_class = n_train_per_class\n",
    "        elif phase == 'test':\n",
    "            self.n_imgs_per_class = n_test_per_class\n",
    "        \n",
    "    def __len__(self):\n",
    "        return self.n_classes*self.n_imgs_per_class\n",
    "\n",
    "    def __getitem__(self, idx):\n",
    "        digit = int(idx/self.n_imgs_per_class)\n",
    "        img_idx = idx-digit*self.n_imgs_per_class\n",
    "        img_path = self.root_path+'/Image_%d_%05d.png' % (digit, img_idx)\n",
    "        \n",
    "        image = cv2.imread(img_path, cv2.IMREAD_UNCHANGED)\n",
    "        image = torch.unsqueeze(torch.from_numpy(image), 0).float()/255\n",
    "        sample = {'image': image, 'label': digit}\n",
    "\n",
    "        return sample"
   ]
  },
  {
   "cell_type": "code",
   "execution_count": 5,
   "id": "ab5d0da8-51a1-45fd-96ba-6f1704c3a0b3",
   "metadata": {},
   "outputs": [
    {
     "data": {
      "text/plain": [
       "(10000, 1000)"
      ]
     },
     "execution_count": 5,
     "metadata": {},
     "output_type": "execute_result"
    }
   ],
   "source": [
    "train_dataset = CustomDataset('train')\n",
    "test_dataset = CustomDataset('test')\n",
    "len(train_dataset), len(test_dataset)"
   ]
  },
  {
   "cell_type": "code",
   "execution_count": 6,
   "id": "6b939302-8cdc-4857-b0e3-faa86039945b",
   "metadata": {},
   "outputs": [],
   "source": [
    "train_loader = DataLoader(train_dataset, batch_size=20,  shuffle=True)\n",
    "test_loader = DataLoader(test_dataset, batch_size=20,  shuffle=True)"
   ]
  },
  {
   "cell_type": "code",
   "execution_count": 7,
   "id": "14388455-b978-4c69-9c97-3d6399416951",
   "metadata": {},
   "outputs": [
    {
     "data": {
      "text/plain": [
       "(500, 50)"
      ]
     },
     "execution_count": 7,
     "metadata": {},
     "output_type": "execute_result"
    }
   ],
   "source": [
    "len(train_loader), len(test_loader)"
   ]
  },
  {
   "cell_type": "code",
   "execution_count": 8,
   "id": "c9a2b1a4-00b6-4601-9efb-0a619ae1d537",
   "metadata": {},
   "outputs": [],
   "source": [
    "class Net(nn.Module):\n",
    "    def __init__(self):\n",
    "        super(Net, self).__init__()\n",
    "        self.conv1 = nn.Conv2d(1, 4, 5) # n chan in, n chan out, kernel size\n",
    "        self.pool = nn.MaxPool2d(2, 2)\n",
    "        self.conv2 = nn.Conv2d(4, 16, 5)\n",
    "        self.fc1 = nn.Linear(16 * 4 * 4, 128)\n",
    "        self.fc2 = nn.Linear(128, 64)\n",
    "        self.fc3 = nn.Linear(64, 10)\n",
    "        self.dropout = nn.Dropout(0.5)\n",
    "\n",
    "    def forward(self, x):\n",
    "        x = self.pool(F.relu(self.conv1(x)))\n",
    "        x = self.pool(F.relu(self.conv2(x)))\n",
    "        x = self.dropout(x.view(-1, 16 * 4 * 4))\n",
    "        x = F.relu(self.fc1(x))\n",
    "        x = F.relu(self.fc2(x))\n",
    "        x = self.fc3(x)\n",
    "        return x\n",
    "\n",
    "net = Net()"
   ]
  },
  {
   "cell_type": "code",
   "execution_count": 9,
   "id": "ef195f9a-0bf3-490a-a1f3-428971d7e22f",
   "metadata": {},
   "outputs": [],
   "source": [
    "criterion = nn.CrossEntropyLoss()\n",
    "optimizer = optim.SGD(net.parameters(), lr=0.001, momentum=0.9)"
   ]
  },
  {
   "cell_type": "code",
   "execution_count": 10,
   "id": "1c59aafc-7d4c-4f30-ab96-f5f1bb300fc9",
   "metadata": {},
   "outputs": [],
   "source": [
    "device = torch.device('cuda' if torch.cuda.is_available() else 'cpu')\n",
    "net.to(device)\n",
    "criterion.to(device);"
   ]
  },
  {
   "cell_type": "code",
   "execution_count": 11,
   "id": "3ec8cdaa-275c-4adc-a6e6-74d4b5593b2c",
   "metadata": {},
   "outputs": [
    {
     "name": "stdout",
     "output_type": "stream",
     "text": [
      "epoch 1 loss 2.29648756980896\n",
      "epoch 2 loss 2.30973482131958\n",
      "epoch 3 loss 2.2282302379608154\n",
      "epoch 4 loss 2.0657265186309814\n",
      "epoch 5 loss 0.9875258207321167\n",
      "epoch 6 loss 0.9182311296463013\n",
      "epoch 7 loss 0.12694214284420013\n",
      "epoch 8 loss 0.25580212473869324\n",
      "epoch 9 loss 0.21502438187599182\n",
      "epoch 10 loss 0.06553361564874649\n"
     ]
    }
   ],
   "source": [
    "l_loss = []\n",
    "for epoch in range(10):\n",
    "    for i, batch in enumerate(train_loader):\n",
    "        imgs, lbls = batch['image'].to(device), batch['label'].to(device)\n",
    "\n",
    "        optimizer.zero_grad()\n",
    "\n",
    "        pred = net(imgs)\n",
    "        loss = criterion(pred, lbls)\n",
    "        loss.backward()\n",
    "        optimizer.step()\n",
    "\n",
    "        if len(l_loss) == 0:\n",
    "            l_loss.append(loss.item())\n",
    "        else:\n",
    "            l_loss.append(0.5*l_loss[-1]+0.5*loss.item())\n",
    "    print('epoch', epoch+1, 'loss', loss.item())"
   ]
  },
  {
   "cell_type": "code",
   "execution_count": 12,
   "id": "41d1a525-c93d-4236-b469-53531141e2fd",
   "metadata": {},
   "outputs": [
    {
     "data": {
      "image/png": "[encoded data removed]",
      "text/plain": [
       "<Figure size 432x288 with 1 Axes>"
      ]
     },
     "metadata": {},
     "output_type": "display_data"
    }
   ],
   "source": [
    "plt.plot(l_loss)\n",
    "plt.show()"
   ]
  },
  {
   "cell_type": "code",
   "execution_count": 13,
   "id": "bd253243-1f13-43fc-a124-a68ca506c338",
   "metadata": {},
   "outputs": [
    {
     "name": "stdout",
     "output_type": "stream",
     "text": [
      "test accuracy 0.966\n"
     ]
    }
   ],
   "source": [
    "sm = nn.Softmax(dim=1)\n",
    "\n",
    "correct = 0\n",
    "total = 0\n",
    "with torch.no_grad():\n",
    "    for batch in test_loader:\n",
    "        imgs, lbls = batch['image'].to(device), batch['label'].to(device)\n",
    "        pred = sm(net(imgs))\n",
    "        _, imx = torch.max(pred, 1)\n",
    "        total += len(lbls)\n",
    "        correct += (imx == lbls).sum().item()\n",
    "\n",
    "print('test accuracy', correct / total)"
   ]
  },
  {
   "cell_type": "code",
   "execution_count": 14,
   "id": "4ffd72b7-8daa-4786-8636-99697c5cb631",
   "metadata": {},
   "outputs": [
    {
     "data": {
      "image/png": "[encoded data removed]",
      "text/plain": [
       "<Figure size 432x288 with 1 Axes>"
      ]
     },
     "metadata": {},
     "output_type": "display_data"
    },
    {
     "data": {
      "image/png": "[encoded data removed]",
      "text/plain": [
       "<Figure size 432x288 with 1 Axes>"
      ]
     },
     "metadata": {},
     "output_type": "display_data"
    },
    {
     "data": {
      "image/png": "[encoded data removed]",
      "text/plain": [
       "<Figure size 432x288 with 1 Axes>"
      ]
     },
     "metadata": {},
     "output_type": "display_data"
    },
    {
     "data": {
      "image/png": "[encoded data removed]",
      "text/plain": [
       "<Figure size 432x288 with 1 Axes>"
      ]
     },
     "metadata": {},
     "output_type": "display_data"
    },
    {
     "data": {
      "image/png": "[encoded data removed]",
      "text/plain": [
       "<Figure size 432x288 with 1 Axes>"
      ]
     },
     "metadata": {},
     "output_type": "display_data"
    },
    {
     "data": {
      "image/png": "[encoded data removed]",
      "text/plain": [
       "<Figure size 432x288 with 1 Axes>"
      ]
     },
     "metadata": {},
     "output_type": "display_data"
    },
    {
     "data": {
      "image/png": "[encoded data removed]",
      "text/plain": [
       "<Figure size 432x288 with 1 Axes>"
      ]
     },
     "metadata": {},
     "output_type": "display_data"
    },
    {
     "data": {
      "image/png": "[encoded data removed]",
      "text/plain": [
       "<Figure size 432x288 with 1 Axes>"
      ]
     },
     "metadata": {},
     "output_type": "display_data"
    },
    {
     "data": {
      "image/png": "[encoded data removed]",
      "text/plain": [
       "<Figure size 432x288 with 1 Axes>"
      ]
     },
     "metadata": {},
     "output_type": "display_data"
    },
    {
     "data": {
      "image/png": "[encoded data removed]",
      "text/plain": [
       "<Figure size 432x288 with 1 Axes>"
      ]
     },
     "metadata": {},
     "output_type": "display_data"
    }
   ],
   "source": [
    "with torch.no_grad():\n",
    "    for digit in range(10):\n",
    "        image0 = generate_digit_image(digit)\n",
    "        image = torch.unsqueeze(torch.from_numpy(image0), 0).float()/255\n",
    "        pred = sm(net(image))\n",
    "        _, imx = torch.max(pred, 1)\n",
    "        pred_idx = imx.item()\n",
    "        plt.imshow(image0, cmap='gray')\n",
    "        plt.title('predicted digit: %d' % pred_idx)\n",
    "        plt.axis('off')\n",
    "        plt.show()"
   ]
  }
 ],
 "metadata": {
  "kernelspec": {
   "display_name": "pytorch",
   "language": "python",
   "name": "pytorch"
  },
  "language_info": {
   "codemirror_mode": {
    "name": "ipython",
    "version": 3
   },
   "file_extension": ".py",
   "mimetype": "text/x-python",
   "name": "python",
   "nbconvert_exporter": "python",
   "pygments_lexer": "ipython3",
   "version": "3.8.5"
  }
 },
 "nbformat": 4,
 "nbformat_minor": 5
}
