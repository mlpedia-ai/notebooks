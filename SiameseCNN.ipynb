{
 "cells": [
  {
   "cell_type": "code",
   "execution_count": 1,
   "id": "d7d0785b-4b41-4c0b-a69b-d92766eb0818",
   "metadata": {},
   "outputs": [],
   "source": [
    "from skimage import io\n",
    "import numpy as np\n",
    "import matplotlib.pyplot as plt\n",
    "import cv2\n",
    "import torch\n",
    "import torch.nn as nn\n",
    "import torch.nn.functional as F\n",
    "import torch.optim as optim\n",
    "plt.style.use('dark_background')"
   ]
  },
  {
   "cell_type": "code",
   "execution_count": 2,
   "id": "aa5a1701-6b1e-4102-b4a7-254011287159",
   "metadata": {},
   "outputs": [
    {
     "data": {
      "image/png": "[encoded data removed]",
      "text/plain": [
       "<Figure size 432x288 with 1 Axes>"
      ]
     },
     "metadata": {},
     "output_type": "display_data"
    },
    {
     "data": {
      "image/png": "[encoded data removed]",
      "text/plain": [
       "<Figure size 432x288 with 1 Axes>"
      ]
     },
     "metadata": {},
     "output_type": "display_data"
    },
    {
     "data": {
      "image/png": "[encoded data removed]",
      "text/plain": [
       "<Figure size 432x288 with 1 Axes>"
      ]
     },
     "metadata": {},
     "output_type": "display_data"
    },
    {
     "data": {
      "image/png": "[encoded data removed]",
      "text/plain": [
       "<Figure size 432x288 with 1 Axes>"
      ]
     },
     "metadata": {},
     "output_type": "display_data"
    },
    {
     "data": {
      "image/png": "[encoded data removed]",
      "text/plain": [
       "<Figure size 432x288 with 1 Axes>"
      ]
     },
     "metadata": {},
     "output_type": "display_data"
    }
   ],
   "source": [
    "def generate_digit_image(digit):\n",
    "    text = '%d' % digit\n",
    "    font = cv2.FONT_HERSHEY_SIMPLEX\n",
    "    font_size = 1\n",
    "    font_color = 255\n",
    "    thickness = np.random.randint(1, 4)\n",
    "    text_size = cv2.getTextSize(text, font, font_size, thickness)[0]\n",
    "    image = np.zeros((28, 28), dtype = np.uint8)\n",
    "    loc = (np.random.randint(-3, 11), np.random.randint(21, 28))\n",
    "    image = cv2.putText(image, text, loc, font, font_size, font_color, thickness)\n",
    "    return image\n",
    "\n",
    "for digit in range(5):\n",
    "    image = generate_digit_image(digit)\n",
    "    plt.imshow(image, cmap='gray')\n",
    "    plt.title('digit: %d' % digit)\n",
    "    plt.axis('off')\n",
    "    plt.show()"
   ]
  },
  {
   "cell_type": "code",
   "execution_count": 3,
   "id": "d77d01bc-17c4-40b7-a8f9-bab596b44533",
   "metadata": {},
   "outputs": [
    {
     "name": "stdout",
     "output_type": "stream",
     "text": [
      "0\n",
      "generating train\n",
      "generating test\n",
      "1\n",
      "generating train\n",
      "generating test\n",
      "2\n",
      "generating train\n",
      "generating test\n",
      "3\n",
      "generating train\n",
      "generating test\n",
      "4\n",
      "generating train\n",
      "generating test\n"
     ]
    }
   ],
   "source": [
    "n_digits = 5\n",
    "n_train_per_class = 1000\n",
    "n_test_per_class = 100\n",
    "\n",
    "for digit in range(n_digits):\n",
    "    print(digit)\n",
    "    print('generating train')\n",
    "    for i_sample in range(n_train_per_class):\n",
    "        image = generate_digit_image(digit)\n",
    "        cv2.imwrite('SiameseCNN_Dataset/train/Image_%d_%05d.png' % (digit, i_sample), image)\n",
    "    print('generating test')\n",
    "    for i_sample in range(n_test_per_class):\n",
    "        image = generate_digit_image(digit)\n",
    "        cv2.imwrite('SiameseCNN_Dataset/test/Image_%d_%05d.png' % (digit, i_sample), image)"
   ]
  },
  {
   "cell_type": "code",
   "execution_count": 4,
   "id": "2c667c82-fad7-4f32-9539-27afb4a58cf3",
   "metadata": {},
   "outputs": [],
   "source": [
    "im_size = 28\n",
    "n_channels = 1\n",
    "\n",
    "def get_batch(n, phase='train'):\n",
    "    n_categories = n_digits\n",
    "    if phase == 'train':\n",
    "        data_path = 'SiameseCNN_Dataset/train'\n",
    "        n_imgs_per_category = n_train_per_class\n",
    "    elif phase == 'test':\n",
    "        data_path = 'SiameseCNN_Dataset/test'\n",
    "        n_imgs_per_category = n_test_per_class\n",
    "    \n",
    "    a_batch = np.zeros((n, n_channels, im_size, im_size))\n",
    "    b_batch = np.zeros((n, n_channels, im_size, im_size))\n",
    "    y_batch = np.zeros((n, ))\n",
    "    for j in range(n//2):\n",
    "        # same category\n",
    "        category = np.random.randint(n_categories)\n",
    "        ind_a = np.random.randint(n_imgs_per_category)\n",
    "        ind_b = np.random.randint(n_imgs_per_category)\n",
    "        im_a = io.imread('%s/Image_%d_%05d.png' % (data_path, category, ind_a)).astype('double')/255\n",
    "        im_b = io.imread('%s/Image_%d_%05d.png' % (data_path, category, ind_b)).astype('double')/255\n",
    "\n",
    "        a_batch[2*j,:,:,:] = np.expand_dims(im_a, 0)\n",
    "        b_batch[2*j,:,:,:] = np.expand_dims(im_b, 0)\n",
    "        y_batch[2*j] = 0\n",
    "\n",
    "        # diff categories\n",
    "        category_a = np.random.randint(n_categories)\n",
    "        category_b = category_a\n",
    "        while category_b == category_a:\n",
    "            category_b = np.random.randint(n_categories)\n",
    "        ind_a = np.random.randint(n_imgs_per_category)\n",
    "        ind_b = np.random.randint(n_imgs_per_category)\n",
    "        im_a = io.imread('%s/Image_%d_%05d.png' % (data_path, category_a, ind_a)).astype('double')/255\n",
    "        im_b = io.imread('%s/Image_%d_%05d.png' % (data_path, category_b, ind_b)).astype('double')/255\n",
    "\n",
    "        a_batch[2*j+1,:,:,:] = np.expand_dims(im_a, 0)\n",
    "        b_batch[2*j+1,:,:,:] = np.expand_dims(im_b, 0)\n",
    "        y_batch[2*j+1] = 1\n",
    "\n",
    "    return a_batch, b_batch, y_batch"
   ]
  },
  {
   "cell_type": "code",
   "execution_count": 5,
   "id": "6823997e-9735-4fc3-be6f-56f9f785b11e",
   "metadata": {},
   "outputs": [
    {
     "data": {
      "image/png": "[encoded data removed]",
      "text/plain": [
       "<Figure size 1152x144 with 16 Axes>"
      ]
     },
     "metadata": {},
     "output_type": "display_data"
    }
   ],
   "source": [
    "n = 8\n",
    "A, B, Y = get_batch(n)\n",
    "\n",
    "fig = plt.figure(figsize=(2*n,2))\n",
    "for i in range(n):\n",
    "    im_a, im_b, y = np.mean(A[i,:,:,:], axis=0), np.mean(B[i,:,:,:], axis=0), Y[i]\n",
    "    plt.subplot(2, n, 1+i)\n",
    "    plt.imshow(im_a, cmap='gray'); plt.axis('off')\n",
    "    plt.title('same' if y == 0 else 'diff')\n",
    "    plt.subplot(2, n, n+1+i)\n",
    "    plt.imshow(im_b, cmap='gray'); plt.axis('off')\n",
    "plt.show()"
   ]
  },
  {
   "cell_type": "code",
   "execution_count": 6,
   "id": "67674946-ece8-4e33-a6ae-4873ac14702f",
   "metadata": {},
   "outputs": [
    {
     "name": "stdout",
     "output_type": "stream",
     "text": [
      "torch.Size([8, 1, 28, 28]) torch.Size([8, 1, 28, 28]) torch.Size([8])\n",
      "torch.Size([8, 64]) torch.Size([8, 64])\n"
     ]
    }
   ],
   "source": [
    "embed_dim = 64\n",
    "\n",
    "class CNNBranch(nn.Module):\n",
    "    def __init__(self):\n",
    "        super(CNNBranch, self).__init__()\n",
    "        self.conv1 = nn.Conv2d(n_channels, 6, 5) # n chan in, n chan out, kernel size\n",
    "        self.pool = nn.MaxPool2d(2, 2)\n",
    "        self.conv2 = nn.Conv2d(6, 16, 5)\n",
    "        self.fc1 = nn.Linear(16 * 4 * 4, 120)\n",
    "        self.fc2 = nn.Linear(120, embed_dim)\n",
    "\n",
    "    def forward(self, x):\n",
    "        x = self.pool(F.relu(self.conv1(x)))\n",
    "        x = self.pool(F.relu(self.conv2(x)))\n",
    "        x = x.view(-1, 16 * 4 * 4)\n",
    "        x = F.relu(self.fc1(x))\n",
    "        x = self.fc2(x)\n",
    "        return x\n",
    "\n",
    "cnn_branch = CNNBranch()\n",
    "A, B, Y = get_batch(n)\n",
    "A, B, Y = torch.from_numpy(A).float(), torch.from_numpy(B).float(), torch.from_numpy(Y).long()\n",
    "print(A.shape, B.shape, Y.shape)\n",
    "print(cnn_branch(A).shape, cnn_branch(B).shape)"
   ]
  },
  {
   "cell_type": "code",
   "execution_count": 7,
   "id": "76ee9cb1-04ea-45af-b1fc-296472d952d8",
   "metadata": {},
   "outputs": [
    {
     "name": "stdout",
     "output_type": "stream",
     "text": [
      "torch.Size([8, 2]) torch.Size([8])\n"
     ]
    }
   ],
   "source": [
    "n_classes = 2\n",
    "\n",
    "class SiameseNet(nn.Module):\n",
    "    def __init__(self):\n",
    "        super(SiameseNet, self).__init__()\n",
    "        self.cnn_branch = CNNBranch()\n",
    "        self.fc = nn.Linear(embed_dim, n_classes)\n",
    "\n",
    "    def forward(self, x_a, x_b):\n",
    "        embed_a = self.cnn_branch(x_a)\n",
    "        embed_b = self.cnn_branch(x_b)\n",
    "        merge = torch.abs(torch.sub(embed_a, embed_b))\n",
    "        return self.fc(merge)\n",
    "    \n",
    "siamese_net = SiameseNet()\n",
    "prediction = siamese_net(A, B)\n",
    "print(prediction.shape, Y.shape)"
   ]
  },
  {
   "cell_type": "code",
   "execution_count": 8,
   "id": "72ddbddd-c50c-4332-b05d-29235080271e",
   "metadata": {},
   "outputs": [
    {
     "name": "stdout",
     "output_type": "stream",
     "text": [
      "cpu\n"
     ]
    }
   ],
   "source": [
    "criterion = nn.CrossEntropyLoss()\n",
    "optimizer = optim.SGD(siamese_net.parameters(), lr=0.001, momentum=0.9)\n",
    "device = torch.device('cuda' if torch.cuda.is_available() else 'cpu')\n",
    "print(device)"
   ]
  },
  {
   "cell_type": "code",
   "execution_count": 9,
   "id": "30a374fe-ab5d-4f98-b8d2-793822f1a596",
   "metadata": {},
   "outputs": [
    {
     "name": "stdout",
     "output_type": "stream",
     "text": [
      "step 1000 loss 0.6878210477490576\n",
      "step 2000 loss 0.6502586720862691\n",
      "step 3000 loss 0.3703302723731394\n",
      "step 4000 loss 0.05872782669031942\n",
      "step 5000 loss 0.01908171827013775\n"
     ]
    }
   ],
   "source": [
    "n_steps = 5000\n",
    "\n",
    "siamese_net.to(device)\n",
    "criterion.to(device)\n",
    "losses = []\n",
    "for i_step in range(n_steps):\n",
    "    A, B, Y = get_batch(n)\n",
    "    A = torch.from_numpy(A).float().to(device)\n",
    "    B = torch.from_numpy(B).float().to(device)\n",
    "    Y = torch.from_numpy(Y).long().to(device)\n",
    "\n",
    "    optimizer.zero_grad()\n",
    "\n",
    "    prediction = siamese_net(A, B)\n",
    "    loss = criterion(prediction, Y)\n",
    "    loss.backward()\n",
    "    optimizer.step()\n",
    "\n",
    "    if len(losses) == 0:\n",
    "        losses.append(loss.item())\n",
    "    else:\n",
    "        losses.append(0.5*losses[-1]+0.5*loss.item())\n",
    "    if i_step % 1000 == 999:\n",
    "        print('step', i_step+1, 'loss', losses[-1])"
   ]
  },
  {
   "cell_type": "code",
   "execution_count": 10,
   "id": "962b3ecb-2127-49b6-ae56-a2a90dbebcbd",
   "metadata": {},
   "outputs": [
    {
     "data": {
      "image/png": "[encoded data removed]",
      "text/plain": [
       "<Figure size 432x288 with 1 Axes>"
      ]
     },
     "metadata": {},
     "output_type": "display_data"
    }
   ],
   "source": [
    "plt.plot(losses)\n",
    "plt.show()"
   ]
  },
  {
   "cell_type": "code",
   "execution_count": 11,
   "id": "1fab26d4-b602-4367-adc3-4081ad4f7f48",
   "metadata": {},
   "outputs": [
    {
     "name": "stdout",
     "output_type": "stream",
     "text": [
      "accuracy 1.0\n"
     ]
    }
   ],
   "source": [
    "correct = 0\n",
    "total = 0\n",
    "\n",
    "n_batches = 100\n",
    "with torch.no_grad():\n",
    "    for i_batch in range(n_batches):\n",
    "        A, B, Y = get_batch(n, 'test')\n",
    "        A = torch.from_numpy(A).float().to(device)\n",
    "        B = torch.from_numpy(B).float().to(device)\n",
    "        Y = torch.from_numpy(Y).long().to(device)\n",
    "        prediction = siamese_net(A, B)\n",
    "        mx, imx = torch.max(prediction,1)\n",
    "        total += len(Y)\n",
    "        correct += (imx == Y).sum().item()\n",
    "    \n",
    "print('accuracy', correct / total)"
   ]
  },
  {
   "cell_type": "code",
   "execution_count": 12,
   "id": "be0eb1a7-8049-45a7-84b7-e111842fc3b3",
   "metadata": {},
   "outputs": [
    {
     "data": {
      "image/png": "[encoded data removed]",
      "text/plain": [
       "<Figure size 1152x144 with 16 Axes>"
      ]
     },
     "metadata": {},
     "output_type": "display_data"
    }
   ],
   "source": [
    "with torch.no_grad():\n",
    "    A, B, Y = get_batch(n, 'test')\n",
    "    pt_A = torch.from_numpy(A).float().to(device)\n",
    "    pt_B = torch.from_numpy(B).float().to(device)\n",
    "    prediction = siamese_net(pt_A, pt_B)\n",
    "    mx, imx = torch.max(prediction,1)\n",
    "    imx = imx.numpy().tolist()\n",
    "    \n",
    "    fig = plt.figure(figsize=(2*n,2))\n",
    "    for i in range(n):\n",
    "        im_a, im_b, y = np.mean(A[i,:,:,:], axis=0), np.mean(B[i,:,:,:], axis=0), Y[i]\n",
    "        plt.subplot(2, n, 1+i)\n",
    "        plt.imshow(im_a, cmap='gray'); plt.axis('off')\n",
    "        t0 = 'label: same' if y == 0 else 'label: diff'\n",
    "        t1 = 'prediction: same' if imx[i] == 0 else 'prediction: diff'\n",
    "        plt.title(t0+'\\n'+t1)\n",
    "        plt.subplot(2, n, n+1+i)\n",
    "        plt.imshow(im_b, cmap='gray'); plt.axis('off')\n",
    "    plt.show()"
   ]
  }
 ],
 "metadata": {
  "kernelspec": {
   "display_name": "pytorch",
   "language": "python",
   "name": "pytorch"
  },
  "language_info": {
   "codemirror_mode": {
    "name": "ipython",
    "version": 3
   },
   "file_extension": ".py",
   "mimetype": "text/x-python",
   "name": "python",
   "nbconvert_exporter": "python",
   "pygments_lexer": "ipython3",
   "version": "3.8.5"
  }
 },
 "nbformat": 4,
 "nbformat_minor": 5
}
